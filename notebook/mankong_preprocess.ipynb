{
 "cells": [
  {
   "cell_type": "code",
   "execution_count": 4,
   "id": "d69e3265",
   "metadata": {},
   "outputs": [
    {
     "name": "stdout",
     "output_type": "stream",
     "text": [
      "{'Dataset Size': 4555, '# Features': 113, 'Label Distribution': 28 Day Death\n",
      "0    0.6191\n",
      "1    0.3809\n",
      "Name: proportion, dtype: float64, 'Missing Values': 169592}\n"
     ]
    }
   ],
   "source": [
    "import pandas as pd\n",
    "from sklearn.model_selection import train_test_split\n",
    "\n",
    "seed = 9973\n",
    "\n",
    "# Load the dataset and drop unnecessary columns\n",
    "data = pd.read_csv('mimiciii_sepsis.csv')\n",
    "data.drop(['Unnamed: 0', 'SUBJECT_ID', 'HADM_ID'], axis=1, inplace=True)\n",
    "\n",
    "# Convert gender to numeric values: 1 for Male and 0 for Female\n",
    "data['Gender'] = data['Gender'].apply(lambda x: 1 if x == 'M' else 0)\n",
    "\n",
    "X = data.drop(['28 Day Death', 'In Hospital Death'], axis=1)\n",
    "y = data['28 Day Death']\n",
    "\n",
    "# Convert all columns to numeric and fill missing values with column mean\n",
    "for column in X.columns:\n",
    "    X[column] = pd.to_numeric(X[column], errors='coerce').fillna(X[column].mean())\n",
    "\n",
    "X_train, X_test, y_train, y_test = train_test_split(X, y, test_size=0.3, random_state=seed)\n",
    "\n",
    "dataset_description = {\n",
    "    'Dataset Size': len(data),\n",
    "    '# Features': len(X.columns),\n",
    "    'Label Distribution': y.value_counts(normalize=True),\n",
    "    'Missing Values': data.isnull().sum().sum(),\n",
    "}\n",
    "\n",
    "print(dataset_description)"
   ]
  },
  {
   "cell_type": "code",
   "execution_count": 5,
   "id": "cd5f90fc",
   "metadata": {},
   "outputs": [],
   "source": [
    "from sklearn.experimental import enable_iterative_imputer\n",
    "from sklearn.impute import IterativeImputer\n",
    "from sklearn.preprocessing import MinMaxScaler\n",
    "from sklearn.feature_selection import SelectKBest\n",
    "from sklearn.feature_selection import chi2\n",
    "\n",
    "# Initialize and apply Iterative Imputer\n",
    "imputer = IterativeImputer(max_iter=10, random_state=seed)\n",
    "X_train = pd.DataFrame(imputer.fit_transform(X_train), columns=X.columns)\n",
    "X_test = pd.DataFrame(imputer.transform(X_test), columns=X.columns)\n",
    "\n",
    "# Initialize and apply MinMaxScaler and SelectKBest\n",
    "scaler = MinMaxScaler().fit(X_train)\n",
    "kbest = SelectKBest(chi2, k=10).fit(scaler.transform(X_train), y_train)\n",
    "\n",
    "# Transform train and test sets\n",
    "X_train = pd.DataFrame(kbest.transform(scaler.transform(X_train)), columns=X.columns[kbest.get_support()])\n",
    "X_test = pd.DataFrame(kbest.transform(scaler.transform(X_test)), columns=X.columns[kbest.get_support()])\n",
    "\n",
    "# Reset indices of target variables and insert them into datasets\n",
    "y_train.reset_index(drop=True, inplace=True)\n",
    "y_test.reset_index(drop=True, inplace=True)\n",
    "X_train.insert(0, '28 Day Death', y_train)\n",
    "X_test.insert(0, '28 Day Death', y_test)\n",
    "\n",
    "# Save datasets to CSV files\n",
    "X_train.to_csv('data_train.csv', index=False)\n",
    "X_test.to_csv('data_test.csv', index=False)"
   ]
  }
 ],
 "metadata": {
  "kernelspec": {
   "display_name": "Python 3 (ipykernel)",
   "language": "python",
   "name": "python3"
  },
  "language_info": {
   "codemirror_mode": {
    "name": "ipython",
    "version": 3
   },
   "file_extension": ".py",
   "mimetype": "text/x-python",
   "name": "python",
   "nbconvert_exporter": "python",
   "pygments_lexer": "ipython3",
   "version": "3.9.7"
  }
 },
 "nbformat": 4,
 "nbformat_minor": 5
}
